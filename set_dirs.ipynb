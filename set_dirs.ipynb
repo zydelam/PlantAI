{
 "cells": [
  {
   "cell_type": "code",
   "execution_count": 1,
   "id": "dc4818b4",
   "metadata": {},
   "outputs": [],
   "source": [
    "import pandas as pd\n",
    "import shutil \n",
    "import os"
   ]
  },
  {
   "cell_type": "code",
   "execution_count": 3,
   "id": "36f6e098",
   "metadata": {},
   "outputs": [],
   "source": [
    "DATA_PATH = os.path.join(os.getcwd(), 'data')\n",
    "IMAGE_PATH = os.path.join(DATA_PATH, 'images')"
   ]
  },
  {
   "cell_type": "code",
   "execution_count": 4,
   "id": "5b73ce9c",
   "metadata": {},
   "outputs": [],
   "source": [
    "df = pd.read_csv('data/train.csv')\n",
    "df_test = pd.read_csv('data/test.csv')"
   ]
  },
  {
   "cell_type": "code",
   "execution_count": 5,
   "id": "86c8101c",
   "metadata": {},
   "outputs": [],
   "source": [
    "classes = df.columns.to_list()[1:]"
   ]
  },
  {
   "cell_type": "code",
   "execution_count": 6,
   "id": "c92bac24",
   "metadata": {},
   "outputs": [
    {
     "data": {
      "text/plain": [
       "['healthy', 'multiple_diseases', 'rust', 'scab']"
      ]
     },
     "execution_count": 6,
     "metadata": {},
     "output_type": "execute_result"
    }
   ],
   "source": [
    "classes"
   ]
  },
  {
   "cell_type": "code",
   "execution_count": 40,
   "id": "79c214ff",
   "metadata": {},
   "outputs": [],
   "source": [
    "try:\n",
    "    os.makedirs(os.path.join(DATA_PATH, 'train'))\n",
    "    \n",
    "    for i in range(len(classes)):\n",
    "        os.makedirs(os.path.join(DATA_PATH, 'train', classes[i]))\n",
    "        \n",
    "    os.makedirs(os.path.join(DATA_PATH, 'val'))\n",
    "    \n",
    "    for i in range(len(classes)):\n",
    "        os.makedirs(os.path.join(DATA_PATH, 'val', classes[i]))\n",
    "        \n",
    "except:\n",
    "    print('dirs already existed!')\n"
   ]
  },
  {
   "cell_type": "code",
   "execution_count": 52,
   "id": "ebed0333",
   "metadata": {
    "scrolled": true
   },
   "outputs": [],
   "source": [
    "df_train=df.sample(frac=0.8,random_state=200) \n",
    "df_val=df.drop(df_train.index)"
   ]
  },
  {
   "cell_type": "code",
   "execution_count": 35,
   "id": "a5816d56",
   "metadata": {},
   "outputs": [],
   "source": [
    "def mov_img(df, types):\n",
    "    \n",
    "    for i in range(len(df)):\n",
    "\n",
    "        row = df.iloc[i]\n",
    "        img_name = row['image_id']\n",
    "\n",
    "        if row['healthy'] == 1:\n",
    "            c = 'healthy'\n",
    "        if row['multiple_diseases'] == 1:\n",
    "            c = 'multiple_diseases'\n",
    "        if row['rust'] == 1:\n",
    "            c = 'rust'\n",
    "        if row['scab'] == 1:\n",
    "            c = 'scab'\n",
    "\n",
    "        s_path = os.path.join(IMAGE_PATH, f\"{img_name}.jpg\")\n",
    "        d_path = os.path.join(DATA_PATH, types, c, f\"{img_name}.jpg\")\n",
    "        shutil.copy(s_path, d_path)"
   ]
  },
  {
   "cell_type": "code",
   "execution_count": 55,
   "id": "08570a96",
   "metadata": {},
   "outputs": [],
   "source": [
    "mov_img(df_train, 'train')"
   ]
  },
  {
   "cell_type": "code",
   "execution_count": 56,
   "id": "801d266a",
   "metadata": {},
   "outputs": [],
   "source": [
    "mov_img(df_val, 'val')"
   ]
  },
  {
   "cell_type": "code",
   "execution_count": null,
   "id": "f59c93be",
   "metadata": {},
   "outputs": [],
   "source": []
  }
 ],
 "metadata": {
  "kernelspec": {
   "display_name": "image_caption",
   "language": "python",
   "name": "image_caption"
  },
  "language_info": {
   "codemirror_mode": {
    "name": "ipython",
    "version": 3
   },
   "file_extension": ".py",
   "mimetype": "text/x-python",
   "name": "python",
   "nbconvert_exporter": "python",
   "pygments_lexer": "ipython3",
   "version": "3.9.7"
  }
 },
 "nbformat": 4,
 "nbformat_minor": 5
}
